{
  "nbformat": 4,
  "nbformat_minor": 0,
  "metadata": {
    "colab": {
      "name": "test.ipynb",
      "provenance": [],
      "authorship_tag": "ABX9TyPPgsGU4yaasZDQKkSGqFPQ",
      "include_colab_link": true
    },
    "kernelspec": {
      "name": "python3",
      "display_name": "Python 3"
    },
    "language_info": {
      "name": "python"
    }
  },
  "cells": [
    {
      "cell_type": "markdown",
      "metadata": {
        "id": "view-in-github",
        "colab_type": "text"
      },
      "source": [
        "<a href=\"https://colab.research.google.com/github/gitlab2131/pytest/blob/main/test.ipynb\" target=\"_parent\"><img src=\"https://colab.research.google.com/assets/colab-badge.svg\" alt=\"Open In Colab\"/></a>"
      ]
    },
    {
      "cell_type": "code",
      "metadata": {
        "id": "Qj_3nIo9NeOm",
        "colab": {
          "base_uri": "https://localhost:8080/"
        },
        "outputId": "371e83fa-b238-4067-c9f4-5d1e113c78b9"
      },
      "source": [
        "print(\"Hi!\")"
      ],
      "execution_count": 1,
      "outputs": [
        {
          "output_type": "stream",
          "text": [
            "Hi!\n"
          ],
          "name": "stdout"
        }
      ]
    },
    {
      "cell_type": "code",
      "metadata": {
        "colab": {
          "base_uri": "https://localhost:8080/"
        },
        "id": "9m_fyhOXQh2Q",
        "outputId": "7f3ddccb-1483-4a5c-9878-e089158c7f2f"
      },
      "source": [
        "import numpy as np\n",
        "print(np.__version__)"
      ],
      "execution_count": 2,
      "outputs": [
        {
          "output_type": "stream",
          "text": [
            "1.19.5\n"
          ],
          "name": "stdout"
        }
      ]
    },
    {
      "cell_type": "markdown",
      "metadata": {
        "id": "oRtcbexQWiJ9"
      },
      "source": [
        "Basic\n"
      ]
    },
    {
      "cell_type": "code",
      "metadata": {
        "colab": {
          "base_uri": "https://localhost:8080/"
        },
        "id": "5np9eZJfVITZ",
        "outputId": "786cb95b-829a-4ee0-f6dd-e616f2975d7a"
      },
      "source": [
        "number1 = 20\n",
        "number2 = 30\n",
        "c = number1 * number2\n",
        "c"
      ],
      "execution_count": 3,
      "outputs": [
        {
          "output_type": "execute_result",
          "data": {
            "text/plain": [
              "600"
            ]
          },
          "metadata": {},
          "execution_count": 3
        }
      ]
    },
    {
      "cell_type": "code",
      "metadata": {
        "colab": {
          "base_uri": "https://localhost:8080/"
        },
        "id": "5_uO6G31WoOn",
        "outputId": "b1b13d6f-3505-4225-e0fb-f726461bcaf9"
      },
      "source": [
        "number1 = 40\n",
        "number2 = 30\n",
        "c = number1 + number2\n",
        "print(c)"
      ],
      "execution_count": 4,
      "outputs": [
        {
          "output_type": "stream",
          "text": [
            "70\n"
          ],
          "name": "stdout"
        }
      ]
    },
    {
      "cell_type": "markdown",
      "metadata": {
        "id": "TMVJaKEAWxJw"
      },
      "source": [
        "Given a range of the first 10 numbers, Iterate from the start number to the end\n",
        " number, and In each iteration print the sum of the current number and previous\n",
        "  number\n",
        "  "
      ]
    },
    {
      "cell_type": "code",
      "metadata": {
        "colab": {
          "base_uri": "https://localhost:8080/"
        },
        "id": "R3fvkVc-WsYf",
        "outputId": "a0cf96c2-8a19-4e36-91ae-ff71b2fc681b"
      },
      "source": [
        "sum = 0\n",
        "Previous = 0\n",
        "print(\"Printing current and previous number sum in a range(10)\")\n",
        "for i in range(10):\n",
        "  sum = i + Previous\n",
        "  print(\"Current Number {} Previous Number  {} Sum:  {}\".format(i,Previous,sum))\n",
        "  Previous = i\n",
        "\n"
      ],
      "execution_count": 13,
      "outputs": [
        {
          "output_type": "stream",
          "text": [
            "Printing current and previous number sum in a range(10)\n",
            "Current Number 0 Previous Number  0 Sum:  0\n",
            "Current Number 1 Previous Number  0 Sum:  1\n",
            "Current Number 2 Previous Number  1 Sum:  3\n",
            "Current Number 3 Previous Number  2 Sum:  5\n",
            "Current Number 4 Previous Number  3 Sum:  7\n",
            "Current Number 5 Previous Number  4 Sum:  9\n",
            "Current Number 6 Previous Number  5 Sum:  11\n",
            "Current Number 7 Previous Number  6 Sum:  13\n",
            "Current Number 8 Previous Number  7 Sum:  15\n",
            "Current Number 9 Previous Number  8 Sum:  17\n"
          ],
          "name": "stdout"
        }
      ]
    },
    {
      "cell_type": "code",
      "metadata": {
        "colab": {
          "base_uri": "https://localhost:8080/"
        },
        "id": "QDb3oKvXW_19",
        "outputId": "c15b09f4-000e-41fd-f5f9-50413de4e3e8"
      },
      "source": [
        "def producesum(num):\n",
        "  prvNum = 0\n",
        "  for i in range(num):\n",
        "    sum = i + prvNum\n",
        "    print(\"Current Number {} Previous Number  {} Sum:  {}\".format(i,prvNum,sum))\n",
        "    prvNum = i\n",
        "\n",
        "producesum(10)"
      ],
      "execution_count": 14,
      "outputs": [
        {
          "output_type": "stream",
          "text": [
            "Current Number 0 Previous Number  0 Sum:  0\n",
            "Current Number 1 Previous Number  0 Sum:  1\n",
            "Current Number 2 Previous Number  1 Sum:  3\n",
            "Current Number 3 Previous Number  2 Sum:  5\n",
            "Current Number 4 Previous Number  3 Sum:  7\n",
            "Current Number 5 Previous Number  4 Sum:  9\n",
            "Current Number 6 Previous Number  5 Sum:  11\n",
            "Current Number 7 Previous Number  6 Sum:  13\n",
            "Current Number 8 Previous Number  7 Sum:  15\n",
            "Current Number 9 Previous Number  8 Sum:  17\n"
          ],
          "name": "stdout"
        }
      ]
    },
    {
      "cell_type": "markdown",
      "metadata": {
        "id": "WNzmo99kZLEw"
      },
      "source": [
        "Given a string, display only those characters which are present at an even index number.\n",
        "\n",
        "For example, str = \"pynative\" so you should display ‘p’, ‘n’, ‘t’, ‘v’.\n"
      ]
    },
    {
      "cell_type": "code",
      "metadata": {
        "colab": {
          "base_uri": "https://localhost:8080/"
        },
        "id": "sCjnHwfrZDeW",
        "outputId": "f6d991fb-9aab-4c65-84bf-163430f6e513"
      },
      "source": [
        "def displayEvenChar(str):\n",
        "  for i in range(0,len(str)-1,2):\n",
        "      print(\"'{}'\".format(str[i]))\n",
        "\n",
        "displayEvenChar(\"pynative\")"
      ],
      "execution_count": 23,
      "outputs": [
        {
          "output_type": "stream",
          "text": [
            "'p'\n",
            "'n'\n",
            "'t'\n",
            "'v'\n"
          ],
          "name": "stdout"
        }
      ]
    },
    {
      "cell_type": "markdown",
      "metadata": {
        "id": "1A3SzykOaYRv"
      },
      "source": [
        "Given a string and an integer number n, \n",
        "\n",
        "remove characters from a string starting from zero up to n \n",
        "\n",
        "and return a new string\n",
        "\n",
        "removeChars(\"pynative\", 4) so output must be tive.\n"
      ]
    },
    {
      "cell_type": "code",
      "metadata": {
        "colab": {
          "base_uri": "https://localhost:8080/"
        },
        "id": "uMi_6PSQZeGX",
        "outputId": "3beca435-5e44-44a4-dee0-80237fe5eb9a"
      },
      "source": [
        "def removeChars(str,n):\n",
        "  print(\"{}\".format(str[n:]))\n",
        "\n",
        "removeChars(\"pynative\",4)"
      ],
      "execution_count": 26,
      "outputs": [
        {
          "output_type": "stream",
          "text": [
            "tive\n"
          ],
          "name": "stdout"
        }
      ]
    },
    {
      "cell_type": "markdown",
      "metadata": {
        "id": "szZ0w9aZbG5I"
      },
      "source": [
        "Given a list of numbers, return True if first and last number of a list is same\n",
        "\n",
        "Given list is  [10, 20, 30, 40, 10]\n",
        "\n",
        "result is True\n",
        "\n",
        "\n",
        "Given list is  [10, 20, 30, 40, 50]\n",
        "\n",
        "result is False"
      ]
    },
    {
      "cell_type": "code",
      "metadata": {
        "colab": {
          "base_uri": "https://localhost:8080/"
        },
        "id": "vOOZYjYoa4Mv",
        "outputId": "c4663477-4c4e-48c8-fb80-b8de57561423"
      },
      "source": [
        "def match(input):\n",
        "  first = input[0]\n",
        "  last = input[-1]\n",
        "  if first == last:\n",
        "    print(\"True\")\n",
        "  else:\n",
        "    print(\"False\")\n",
        "\n",
        "match([10, 20, 30, 40, 10])\n",
        "match([10, 20, 30, 40, 50])"
      ],
      "execution_count": 29,
      "outputs": [
        {
          "output_type": "stream",
          "text": [
            "True\n",
            "False\n"
          ],
          "name": "stdout"
        }
      ]
    },
    {
      "cell_type": "markdown",
      "metadata": {
        "id": "mk2aTJzKcB-x"
      },
      "source": [
        "Given a list of numbers, Iterate it and print only those numbers which are divisible of 5\n",
        "\n",
        "Given list is  [10, 20, 33, 46, 55]\n",
        "\n",
        "Divisible of 5 in a list\n",
        "\n",
        "10\n",
        "20\n",
        "55"
      ]
    },
    {
      "cell_type": "code",
      "metadata": {
        "colab": {
          "base_uri": "https://localhost:8080/"
        },
        "id": "9AtIPP4Jb5nV",
        "outputId": "4c14024d-2e20-4e1d-9da4-0582e92674f5"
      },
      "source": [
        "def divisibleByFive(input):\n",
        "  for i in input:\n",
        "    if i%5 == 0:\n",
        "      print(\"{} is divisible by 5\".format(i))\n",
        "\n",
        "divisibleByFive([10, 20, 33, 46, 55])"
      ],
      "execution_count": 30,
      "outputs": [
        {
          "output_type": "stream",
          "text": [
            "10 is divisible by 5\n",
            "20 is divisible by 5\n",
            "55 is divisible by 5\n"
          ],
          "name": "stdout"
        }
      ]
    },
    {
      "cell_type": "markdown",
      "metadata": {
        "id": "XgyWtD7EceTB"
      },
      "source": [
        "Return the count of sub-string “Emma” appears in the given string\n",
        "str = \"Emma is good developer. Emma is a writer\"\n",
        "Emma appeared 2 times\n"
      ]
    },
    {
      "cell_type": "code",
      "metadata": {
        "colab": {
          "base_uri": "https://localhost:8080/"
        },
        "id": "SgDEoWa9cZx3",
        "outputId": "b632c223-41ba-436c-abf1-838488ea74fb"
      },
      "source": [
        "str = \"Emma is good developer. Emma is a writer\"\n",
        "print(str.count(\"Emma\"))"
      ],
      "execution_count": 31,
      "outputs": [
        {
          "output_type": "stream",
          "text": [
            "2\n"
          ],
          "name": "stdout"
        }
      ]
    },
    {
      "cell_type": "code",
      "metadata": {
        "colab": {
          "base_uri": "https://localhost:8080/"
        },
        "id": "4lVZ_BbBcvbD",
        "outputId": "8b593073-29f4-4915-836f-9839f729bc26"
      },
      "source": [
        "def CountBySearch(str):\n",
        "  count = 0\n",
        "  for i in range(len(str) - 1):\n",
        "    count += str[i: i + 4] == \"Emma\"\n",
        "  return count\n",
        "CountBySearch(\"Emma is good developer. Emma is a writer\")"
      ],
      "execution_count": 34,
      "outputs": [
        {
          "output_type": "execute_result",
          "data": {
            "text/plain": [
              "2"
            ]
          },
          "metadata": {},
          "execution_count": 34
        }
      ]
    },
    {
      "cell_type": "markdown",
      "metadata": {
        "id": "aLpdy4OUdcHm"
      },
      "source": [
        "Print the following pattern\n",
        "\n",
        "1 \n",
        "\n",
        "2 2 \n",
        "\n",
        "3 3 3 \n",
        "\n",
        "4 4 4 4 \n",
        "\n",
        "5 5 5 5 5\n"
      ]
    },
    {
      "cell_type": "code",
      "metadata": {
        "colab": {
          "base_uri": "https://localhost:8080/"
        },
        "id": "bRsoruGzdThP",
        "outputId": "e58fcd70-df8e-45ed-dddb-95931d161979"
      },
      "source": [
        "def display(num):\n",
        "  for i in range(num):\n",
        "    for j in range(i):\n",
        "      print (i, end=\" \")\n",
        "    print(\"\\n\")\n",
        "\n",
        "display(6)\n",
        "\n"
      ],
      "execution_count": 42,
      "outputs": [
        {
          "output_type": "stream",
          "text": [
            "\n",
            "\n",
            "1 \n",
            "\n",
            "2 2 \n",
            "\n",
            "3 3 3 \n",
            "\n",
            "4 4 4 4 \n",
            "\n",
            "5 5 5 5 5 \n",
            "\n"
          ],
          "name": "stdout"
        }
      ]
    },
    {
      "cell_type": "markdown",
      "metadata": {
        "id": "5D1iiV_ufYAp"
      },
      "source": [
        "Reverse a given number and return true if it is the same as the original number\n",
        "\n",
        "original number 121\n",
        "\n",
        "The original and reverse number is the same\n",
        "\n",
        "\n",
        "original number 125\n",
        "\n",
        "The original and reverse number is not same\n"
      ]
    },
    {
      "cell_type": "code",
      "metadata": {
        "colab": {
          "base_uri": "https://localhost:8080/"
        },
        "id": "AhjIkEKfeAUb",
        "outputId": "e3771847-89ef-458d-d0c3-4284eaee3f62"
      },
      "source": [
        "def matchReverseStr(number):\n",
        "  original = f'{number}'\n",
        "  if original == original[::-1]:\n",
        "    print(\"The original and reverse number is the same\")\n",
        "  else:\n",
        "    print(\"The original and reverse number is not same\")\n",
        "\n",
        "matchReverseStr(121)"
      ],
      "execution_count": 58,
      "outputs": [
        {
          "output_type": "stream",
          "text": [
            "The original and reverse number is the same\n"
          ],
          "name": "stdout"
        }
      ]
    },
    {
      "cell_type": "code",
      "metadata": {
        "colab": {
          "base_uri": "https://localhost:8080/"
        },
        "id": "aVj20YMPfj2X",
        "outputId": "e8b7a5e4-c5f1-4039-c9ec-0017b6c43050"
      },
      "source": [
        "def reverseCheck(number):\n",
        "  original = number\n",
        "  reverseNum = 0\n",
        "  while (number > 0):\n",
        "    balance = (number % 10)\n",
        "    reverseNum = (reverseNum * 10) + balance\n",
        "    number = number // 10\n",
        "  \n",
        "  if original == reverseNum:\n",
        "    return True\n",
        "  else:\n",
        "    return False\n",
        "\n",
        "print(\"The original and reverse number is the same:\", reverseCheck(125))"
      ],
      "execution_count": 69,
      "outputs": [
        {
          "output_type": "stream",
          "text": [
            "12\n",
            "1\n",
            "0\n",
            "The original and reverse number is the same: False\n"
          ],
          "name": "stdout"
        }
      ]
    },
    {
      "cell_type": "markdown",
      "metadata": {
        "id": "Rt74TteHi29B"
      },
      "source": [
        "Given a two list of numbers create a new list such that new list should contain \n",
        "only odd numbers from the first list and even numbers from the second list\n",
        "\n",
        "list1 =  [10, 20, 23, 11, 17]\n",
        "\n",
        "list 2 = [13, 43, 24, 36, 12]\n",
        "\n",
        "\n",
        "result List is [23, 11, 17, 24, 36, 12]\n",
        "\n"
      ]
    },
    {
      "cell_type": "code",
      "metadata": {
        "colab": {
          "base_uri": "https://localhost:8080/"
        },
        "id": "2vte4RbchqHh",
        "outputId": "ca2f86fe-522a-471a-d74d-b01de646859e"
      },
      "source": [
        "def mergeOddEven(l1,l2):\n",
        "  result =[]\n",
        "  for i in l1:\n",
        "    if i % 2 != 0:\n",
        "      result.append(i)\n",
        "  for j in l2:\n",
        "    if j % 2 ==0:\n",
        "      result.append(j)\n",
        "  \n",
        "  print(result)\n",
        "\n",
        "mergeOddEven([10, 20, 23, 11, 17],[13, 43, 24, 36, 12])\n"
      ],
      "execution_count": 71,
      "outputs": [
        {
          "output_type": "stream",
          "text": [
            "[23, 11, 17, 24, 36, 12]\n"
          ],
          "name": "stdout"
        }
      ]
    },
    {
      "cell_type": "markdown",
      "metadata": {
        "id": "S6OmRGUWjqEY"
      },
      "source": [
        "Write a code to extract each digit from an integer, in the reverse order"
      ]
    },
    {
      "cell_type": "code",
      "metadata": {
        "colab": {
          "base_uri": "https://localhost:8080/"
        },
        "id": "o1LJuejEjkXH",
        "outputId": "094341c7-46a6-467d-dd87-4f2f1648e0a0"
      },
      "source": [
        "def displayReverseDigit(num):\n",
        "  change = f'{num}'[::-1]\n",
        "  print(change)\n",
        "  for i in change:\n",
        "    print(i,end=\" \")\n",
        "\n",
        "displayReverseDigit(7536)"
      ],
      "execution_count": 81,
      "outputs": [
        {
          "output_type": "stream",
          "text": [
            "6357\n",
            "6 3 5 7 "
          ],
          "name": "stdout"
        }
      ]
    },
    {
      "cell_type": "code",
      "metadata": {
        "colab": {
          "base_uri": "https://localhost:8080/"
        },
        "id": "Acq8hHNRj9Pn",
        "outputId": "fade9bae-3a48-442e-a68c-19904fffc884"
      },
      "source": [
        "def displayReverseDigit(num):\n",
        "  while num > 0:\n",
        "    digit = num % 10\n",
        "    num = num // 10\n",
        "    print(digit, end=\" \")\n",
        "  \n",
        "displayReverseDigit(6357)"
      ],
      "execution_count": 87,
      "outputs": [
        {
          "output_type": "stream",
          "text": [
            "7 5 3 6 "
          ],
          "name": "stdout"
        }
      ]
    },
    {
      "cell_type": "markdown",
      "metadata": {
        "id": "rMgpup0QpnlG"
      },
      "source": [
        "Print multiplication table form 1 to 10"
      ]
    },
    {
      "cell_type": "code",
      "metadata": {
        "colab": {
          "base_uri": "https://localhost:8080/"
        },
        "id": "A85mkbrtk98E",
        "outputId": "bb1affe1-d4d4-4c3f-f263-9ce080e091f8"
      },
      "source": [
        "for i in range(11):\n",
        "  for j in range(11):\n",
        "    print(i * j,end=\" \") \n",
        "  print(\"\\t\\t\")"
      ],
      "execution_count": 91,
      "outputs": [
        {
          "output_type": "stream",
          "text": [
            "0 0 0 0 0 0 0 0 0 0 0 \t\t\n",
            "0 1 2 3 4 5 6 7 8 9 10 \t\t\n",
            "0 2 4 6 8 10 12 14 16 18 20 \t\t\n",
            "0 3 6 9 12 15 18 21 24 27 30 \t\t\n",
            "0 4 8 12 16 20 24 28 32 36 40 \t\t\n",
            "0 5 10 15 20 25 30 35 40 45 50 \t\t\n",
            "0 6 12 18 24 30 36 42 48 54 60 \t\t\n",
            "0 7 14 21 28 35 42 49 56 63 70 \t\t\n",
            "0 8 16 24 32 40 48 56 64 72 80 \t\t\n",
            "0 9 18 27 36 45 54 63 72 81 90 \t\t\n",
            "0 10 20 30 40 50 60 70 80 90 100 \t\t\n"
          ],
          "name": "stdout"
        }
      ]
    },
    {
      "cell_type": "markdown",
      "metadata": {
        "id": "x0F46IvWqEdq"
      },
      "source": [
        "Print downward Half-Pyramid Pattern with Star (asterisk)\n",
        "** * * * *  \n",
        "* * * *  \n",
        "* * *  \n",
        "* *  \n",
        "*\n"
      ]
    },
    {
      "cell_type": "code",
      "metadata": {
        "colab": {
          "base_uri": "https://localhost:8080/"
        },
        "id": "6eCoMkpdpueG",
        "outputId": "b6427ffd-df63-4242-9ee7-0cc098dec6b6"
      },
      "source": [
        "for i in range(6):\n",
        "  for j in range(i):\n",
        "    print(\"*\", end=\"\")\n",
        "  print(\"\\t\")"
      ],
      "execution_count": 97,
      "outputs": [
        {
          "output_type": "stream",
          "text": [
            "\t\n",
            "*\t\n",
            "**\t\n",
            "***\t\n",
            "****\t\n",
            "*****\t\n"
          ],
          "name": "stdout"
        }
      ]
    },
    {
      "cell_type": "code",
      "metadata": {
        "colab": {
          "base_uri": "https://localhost:8080/"
        },
        "id": "POC2tJzhqZDL",
        "outputId": "69ca69e8-aed3-49f7-e994-a50f36b29a6f"
      },
      "source": [
        "num = 6\n",
        "for i in range(num, 0,-1):\n",
        "  for j in range(0,i - 1):\n",
        "    print(\"*\", end=\"\")\n",
        "  print(\"\\t\")"
      ],
      "execution_count": 104,
      "outputs": [
        {
          "output_type": "stream",
          "text": [
            "*****\t\n",
            "****\t\n",
            "***\t\n",
            "**\t\n",
            "*\t\n",
            "\t\n"
          ],
          "name": "stdout"
        }
      ]
    },
    {
      "cell_type": "markdown",
      "metadata": {
        "id": "tfXIuInMrx9e"
      },
      "source": [
        "Write a function called exponent(base, exp) that returns an int value of base raises to the power of exp.\n",
        "\n",
        "base = 2\n",
        "\n",
        "exponent = 5\n",
        "\n",
        "2 raises to the power of 5: 32 i.e. (2 *2 * 2 *2 *2 = 32)\n"
      ]
    },
    {
      "cell_type": "code",
      "metadata": {
        "colab": {
          "base_uri": "https://localhost:8080/"
        },
        "id": "2FxasTqwq_aA",
        "outputId": "7b1f5309-4549-45ba-cfb9-dd79339b4be6"
      },
      "source": [
        "def exponent(base, exp):\n",
        "  num = exp\n",
        "  result = 1\n",
        "  while num > 0:\n",
        "    result = result * base\n",
        "    num = num -1\n",
        "  print(base, \"raises to the power of\", exp, \"is: \", result)\n",
        "\n",
        "exponent(2,5)"
      ],
      "execution_count": 105,
      "outputs": [
        {
          "output_type": "stream",
          "text": [
            "2 raises to the power of 5 is:  32\n"
          ],
          "name": "stdout"
        }
      ]
    },
    {
      "cell_type": "code",
      "metadata": {
        "id": "p1bRemJtsVls"
      },
      "source": [
        ""
      ],
      "execution_count": null,
      "outputs": []
    }
  ]
}