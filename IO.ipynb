{
  "nbformat": 4,
  "nbformat_minor": 0,
  "metadata": {
    "colab": {
      "name": "IO.ipynb",
      "provenance": [],
      "authorship_tag": "ABX9TyPatJe7qAzMOA0Xfk1tzKNk",
      "include_colab_link": true
    },
    "kernelspec": {
      "name": "python3",
      "display_name": "Python 3"
    },
    "language_info": {
      "name": "python"
    }
  },
  "cells": [
    {
      "cell_type": "markdown",
      "metadata": {
        "id": "view-in-github",
        "colab_type": "text"
      },
      "source": [
        "<a href=\"https://colab.research.google.com/github/gitlab2131/pytest/blob/main/IO.ipynb\" target=\"_parent\"><img src=\"https://colab.research.google.com/assets/colab-badge.svg\" alt=\"Open In Colab\"/></a>"
      ]
    },
    {
      "cell_type": "markdown",
      "metadata": {
        "id": "KID20bsFtAPp"
      },
      "source": [
        "Python Input and Output"
      ]
    },
    {
      "cell_type": "markdown",
      "metadata": {
        "id": "dvH_R-kgtES4"
      },
      "source": [
        "Accept two numbers from the user and calculate multiplication"
      ]
    },
    {
      "cell_type": "code",
      "metadata": {
        "colab": {
          "base_uri": "https://localhost:8080/"
        },
        "id": "E-lZ6aGLs9yG",
        "outputId": "65a496dc-3aa3-418e-b2a4-10647554ddcd"
      },
      "source": [
        "num1 = int(input(\"Enter num1 -> \"))\n",
        "num2 = int(input(\"Enter num2 -> \"))\n",
        "print(num1*num2)"
      ],
      "execution_count": 2,
      "outputs": [
        {
          "output_type": "stream",
          "text": [
            "Enter num1 -> 11\n",
            "Enter num2 -> 11\n",
            "121\n"
          ],
          "name": "stdout"
        }
      ]
    },
    {
      "cell_type": "markdown",
      "metadata": {
        "id": "mjLWrAEKtay5"
      },
      "source": [
        "Display “My Name Is James” as “My**Name**Is**James” using output formatting of a print() function\n"
      ]
    },
    {
      "cell_type": "code",
      "metadata": {
        "colab": {
          "base_uri": "https://localhost:8080/"
        },
        "id": "JRlsZx8VtQBB",
        "outputId": "ac7cc318-bb7d-4722-cb1d-4d61c58965e4"
      },
      "source": [
        "print(\"My**Name**Is**James\")"
      ],
      "execution_count": 3,
      "outputs": [
        {
          "output_type": "stream",
          "text": [
            "My**Name**Is**James\n"
          ],
          "name": "stdout"
        }
      ]
    },
    {
      "cell_type": "code",
      "metadata": {
        "colab": {
          "base_uri": "https://localhost:8080/"
        },
        "id": "B2FyMUX9tslZ",
        "outputId": "9599b001-a641-4010-89ae-78d697ac4447"
      },
      "source": [
        "print(\"My\", \"Name\", \"Is\", \"James\",sep=\"**\")"
      ],
      "execution_count": 7,
      "outputs": [
        {
          "output_type": "stream",
          "text": [
            "My**Name**Is**James\n"
          ],
          "name": "stdout"
        }
      ]
    },
    {
      "cell_type": "markdown",
      "metadata": {
        "id": "Z50VtRakuOlT"
      },
      "source": [
        "Convert decimal number to octal using print() output formatting"
      ]
    },
    {
      "cell_type": "code",
      "metadata": {
        "colab": {
          "base_uri": "https://localhost:8080/"
        },
        "id": "9lYq-opUt4Kn",
        "outputId": "0cbf1dfb-0356-4c0c-a54e-920314c37619"
      },
      "source": [
        "print('%o'%(8))"
      ],
      "execution_count": 15,
      "outputs": [
        {
          "output_type": "stream",
          "text": [
            "10\n"
          ],
          "name": "stdout"
        }
      ]
    },
    {
      "cell_type": "markdown",
      "metadata": {
        "id": "r2ZjNIAiudSI"
      },
      "source": [
        "Display float number with 2 decimal places using print()"
      ]
    },
    {
      "cell_type": "code",
      "metadata": {
        "colab": {
          "base_uri": "https://localhost:8080/"
        },
        "id": "UIHEgw7ruWaq",
        "outputId": "23f55642-8493-4b25-cb0d-3d48494ac8f2"
      },
      "source": [
        "print('%.2f'% 458.541315)"
      ],
      "execution_count": 14,
      "outputs": [
        {
          "output_type": "stream",
          "text": [
            "458.54\n"
          ],
          "name": "stdout"
        }
      ]
    },
    {
      "cell_type": "markdown",
      "metadata": {
        "id": "epWy7dZJxTRP"
      },
      "source": [
        "How to check file is empty or not"
      ]
    },
    {
      "cell_type": "code",
      "metadata": {
        "colab": {
          "base_uri": "https://localhost:8080/"
        },
        "id": "S6wYeR58xUfN",
        "outputId": "78821661-d7c4-4bec-ffc2-ea5b5ad2e898"
      },
      "source": [
        "with open(\"test.txt\",\"r\") as fp:\n",
        "  lines = fp.readlines()\n",
        "  print(lines[3])"
      ],
      "execution_count": 25,
      "outputs": [
        {
          "output_type": "stream",
          "text": [
            "line4\n",
            "\n"
          ],
          "name": "stdout"
        }
      ]
    },
    {
      "cell_type": "markdown",
      "metadata": {
        "id": "ZNzvj9cJu4BW"
      },
      "source": [
        "Write all content of a given file into a new file by skipping line number 5"
      ]
    },
    {
      "cell_type": "code",
      "metadata": {
        "id": "EHLVgfs7ujZa"
      },
      "source": [
        "count = 0\n",
        "with open(\"test.txt\", \"r\") as fp:\n",
        "    lines = fp.readlines()\n",
        "    count = len(lines)\n",
        "with open(\"newFile.txt\", \"w\") as fp:\n",
        "    for line in lines:\n",
        "        if (count == 3):\n",
        "            count -= 1\n",
        "            continue\n",
        "        else:\n",
        "            fp.write(line)\n",
        "        count-=1"
      ],
      "execution_count": 17,
      "outputs": []
    },
    {
      "cell_type": "markdown",
      "metadata": {
        "id": "tLm4NteFwPYa"
      },
      "source": [
        "Accept any three string from one input() call"
      ]
    },
    {
      "cell_type": "code",
      "metadata": {
        "colab": {
          "base_uri": "https://localhost:8080/"
        },
        "id": "RZAYQamqv0OM",
        "outputId": "8d4d8dfe-32a5-4098-e451-9db654d6cedc"
      },
      "source": [
        "str1, str2, str3 = input(\"Enter names\").split()\n",
        "print(str1, str2, str3)"
      ],
      "execution_count": 19,
      "outputs": [
        {
          "output_type": "stream",
          "text": [
            "Enter namesA B C\n",
            "A B C\n"
          ],
          "name": "stdout"
        }
      ]
    },
    {
      "cell_type": "markdown",
      "metadata": {
        "id": "5u0yAPWfwiwp"
      },
      "source": [
        "Format the following data using a string.format() method.\n",
        "\n",
        "totalMoney = 1000\n",
        "\n",
        "quantity = 3\n",
        "\n",
        "price = 450\n"
      ]
    },
    {
      "cell_type": "code",
      "metadata": {
        "colab": {
          "base_uri": "https://localhost:8080/"
        },
        "id": "elj-RlUUwZQr",
        "outputId": "3c3e75a5-ff5c-4c19-cd61-9c01f13bef7b"
      },
      "source": [
        "totalMoney = 1000\n",
        "quantity = 3\n",
        "price = 450\n",
        "print(\"I have {0} dollars so I can buy {1} football for {2:.2f} dollars.\".format(totalMoney,quantity,price))"
      ],
      "execution_count": 23,
      "outputs": [
        {
          "output_type": "stream",
          "text": [
            "I have 1000 dollars so I can buy 3 football for 450.00 dollars.\n"
          ],
          "name": "stdout"
        }
      ]
    },
    {
      "cell_type": "code",
      "metadata": {
        "id": "YmELSAIfw5UW"
      },
      "source": [
        ""
      ],
      "execution_count": null,
      "outputs": []
    }
  ]
}