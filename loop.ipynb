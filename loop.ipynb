{
  "nbformat": 4,
  "nbformat_minor": 0,
  "metadata": {
    "colab": {
      "name": "loop.ipynb",
      "provenance": [],
      "authorship_tag": "ABX9TyPxXtcVeoNQl0oRwl8BPIBQ",
      "include_colab_link": true
    },
    "kernelspec": {
      "name": "python3",
      "display_name": "Python 3"
    },
    "language_info": {
      "name": "python"
    }
  },
  "cells": [
    {
      "cell_type": "markdown",
      "metadata": {
        "id": "view-in-github",
        "colab_type": "text"
      },
      "source": [
        "<a href=\"https://colab.research.google.com/github/gitlab2131/pytest/blob/main/loop.ipynb\" target=\"_parent\"><img src=\"https://colab.research.google.com/assets/colab-badge.svg\" alt=\"Open In Colab\"/></a>"
      ]
    },
    {
      "cell_type": "markdown",
      "metadata": {
        "id": "eXBp5_84x3LB"
      },
      "source": [
        "Print First 10 natural numbers using while loop\n"
      ]
    },
    {
      "cell_type": "code",
      "metadata": {
        "colab": {
          "base_uri": "https://localhost:8080/"
        },
        "id": "txotsM1dxyih",
        "outputId": "277e29c5-5217-4f09-f93c-17bb2527e353"
      },
      "source": [
        "i = 0\n",
        "while i <= 10:\n",
        "  print(i)\n",
        "  i += 1"
      ],
      "execution_count": 5,
      "outputs": [
        {
          "output_type": "stream",
          "text": [
            "0\n",
            "1\n",
            "2\n",
            "3\n",
            "4\n",
            "5\n",
            "6\n",
            "7\n",
            "8\n",
            "9\n",
            "10\n"
          ],
          "name": "stdout"
        }
      ]
    },
    {
      "cell_type": "markdown",
      "metadata": {
        "id": "GJG34Eq2yWy6"
      },
      "source": [
        "Print the following pattern\n",
        "\n",
        "1\n",
        "\n",
        "1 2\n",
        "\n",
        "1 2 3\n",
        "\n",
        "1 2 3 4\n",
        "\n",
        "1 2 3 4 5\n"
      ]
    },
    {
      "cell_type": "code",
      "metadata": {
        "colab": {
          "base_uri": "https://localhost:8080/"
        },
        "id": "sWhHMRHcx7iy",
        "outputId": "b8e80550-a6d9-482c-9de4-59ce4e99e0a0"
      },
      "source": [
        "def printNubers(num):\n",
        "  for i in range(1,num):\n",
        "    for j in range(1, i+1):\n",
        "      print(j, end=\" \")\n",
        "    print(\"\\n\")\n",
        "\n",
        "printNubers(6)"
      ],
      "execution_count": 19,
      "outputs": [
        {
          "output_type": "stream",
          "text": [
            "1 \n",
            "\n",
            "1 2 \n",
            "\n",
            "1 2 3 \n",
            "\n",
            "1 2 3 4 \n",
            "\n",
            "1 2 3 4 5 \n",
            "\n"
          ],
          "name": "stdout"
        }
      ]
    },
    {
      "cell_type": "markdown",
      "metadata": {
        "id": "u8NSLAb9zsTO"
      },
      "source": [
        "Print multiplication table of a given number"
      ]
    },
    {
      "cell_type": "code",
      "metadata": {
        "colab": {
          "base_uri": "https://localhost:8080/"
        },
        "id": "N1w33bJayrx2",
        "outputId": "30d37f8a-9986-4d24-daa2-fc1b8aeacc03"
      },
      "source": [
        "n =2\n",
        "for i in range(1,11,1):\n",
        "  print(2*i,end =\"\\n\")"
      ],
      "execution_count": 21,
      "outputs": [
        {
          "output_type": "stream",
          "text": [
            "2\n",
            "4\n",
            "6\n",
            "8\n",
            "10\n",
            "12\n",
            "14\n",
            "16\n",
            "18\n",
            "20\n"
          ],
          "name": "stdout"
        }
      ]
    },
    {
      "cell_type": "markdown",
      "metadata": {
        "id": "8VGMzN2lz-br"
      },
      "source": [
        "Given a list, iterate it, and display numbers divisible by five, and if you find a number greater than 150, stop the loop iteration.\n",
        "list1 = [12, 15, 32, 42, 55, 75, 122, 132, 150, 180, 200]\n"
      ]
    },
    {
      "cell_type": "code",
      "metadata": {
        "colab": {
          "base_uri": "https://localhost:8080/"
        },
        "id": "14nScbdhz1k7",
        "outputId": "16ca99c0-6f01-45d3-94b0-327e69a2a708"
      },
      "source": [
        "list1 = [12, 15, 32, 42, 55, 75, 122, 132, 150, 180, 200]\n",
        "for i in list1:\n",
        "  if i > 150:\n",
        "      break\n",
        "  if i % 5 == 0:\n",
        "    print(i)\n",
        "    \n"
      ],
      "execution_count": 23,
      "outputs": [
        {
          "output_type": "stream",
          "text": [
            "15\n",
            "55\n",
            "75\n",
            "150\n"
          ],
          "name": "stdout"
        }
      ]
    },
    {
      "cell_type": "markdown",
      "metadata": {
        "id": "4izn9XH-0XMs"
      },
      "source": [
        "Given a number count the total number of digits in a number\n",
        "For example, the number is 75869, so the output should be 5."
      ]
    },
    {
      "cell_type": "code",
      "metadata": {
        "colab": {
          "base_uri": "https://localhost:8080/"
        },
        "id": "_9dT_4at0NzO",
        "outputId": "26fc7b02-a46d-4ec4-c45c-e75447eaf811"
      },
      "source": [
        "print(len(f'75869'))"
      ],
      "execution_count": 24,
      "outputs": [
        {
          "output_type": "stream",
          "text": [
            "5\n"
          ],
          "name": "stdout"
        }
      ]
    },
    {
      "cell_type": "code",
      "metadata": {
        "colab": {
          "base_uri": "https://localhost:8080/"
        },
        "id": "wqWcH3oF0gky",
        "outputId": "54c4971d-74b3-4170-baf1-1f5c5d29a1ce"
      },
      "source": [
        "def printCount(num):\n",
        "  count = 0\n",
        "  while num != 0:\n",
        "    num = num // 10\n",
        "    count += 1\n",
        "  print(\"Total digits are: \", count)\n",
        "\n",
        "printCount(75869)"
      ],
      "execution_count": 25,
      "outputs": [
        {
          "output_type": "stream",
          "text": [
            "Total digits are:  5\n"
          ],
          "name": "stdout"
        }
      ]
    },
    {
      "cell_type": "markdown",
      "metadata": {
        "id": "JcmsaUoO1Aqh"
      },
      "source": [
        "Print the following pattern using for loop\n",
        "\n",
        "5 4 3 2 1 \n",
        "\n",
        "\n",
        "4 3 2 1 \n",
        "\n",
        "3 2 1 \n",
        "\n",
        "2 1 \n",
        "\n",
        "1\n"
      ]
    },
    {
      "cell_type": "code",
      "metadata": {
        "colab": {
          "base_uri": "https://localhost:8080/"
        },
        "id": "79YMp7ME08Rm",
        "outputId": "e018b436-8140-42ba-8655-1d3710e79c8d"
      },
      "source": [
        "for i in range(5,0,-1):\n",
        "  for j in range(i,0,-1):\n",
        "    print(j,end=\" \")\n",
        "  print(\"\\n\")"
      ],
      "execution_count": 31,
      "outputs": [
        {
          "output_type": "stream",
          "text": [
            "5 4 3 2 1 \n",
            "\n",
            "4 3 2 1 \n",
            "\n",
            "3 2 1 \n",
            "\n",
            "2 1 \n",
            "\n",
            "1 \n",
            "\n"
          ],
          "name": "stdout"
        }
      ]
    },
    {
      "cell_type": "markdown",
      "metadata": {
        "id": "cDUXLczz1rJ0"
      },
      "source": [
        "Reverse the following list using for loop\n",
        "list1 = [10, 20, 30, 40, 50]"
      ]
    },
    {
      "cell_type": "code",
      "metadata": {
        "colab": {
          "base_uri": "https://localhost:8080/"
        },
        "id": "AJZS028Q1Ppq",
        "outputId": "3523eb6a-9856-4b10-d3c4-9df7e7d6d6e2"
      },
      "source": [
        "list1 = [10, 20, 30, 40, 50]\n",
        "for i in range(len(list1) - 1,-1,-1):\n",
        "  print(list1[i])"
      ],
      "execution_count": 42,
      "outputs": [
        {
          "output_type": "stream",
          "text": [
            "50\n",
            "40\n",
            "30\n",
            "20\n",
            "10\n"
          ],
          "name": "stdout"
        }
      ]
    },
    {
      "cell_type": "markdown",
      "metadata": {
        "id": "aX46UBD42kwZ"
      },
      "source": [
        "Display numbers from -10 to -1 using for loop"
      ]
    },
    {
      "cell_type": "code",
      "metadata": {
        "colab": {
          "base_uri": "https://localhost:8080/"
        },
        "id": "RiF4enpi19uB",
        "outputId": "0fcb96ec-27cd-4d55-d7b5-670a38726ab9"
      },
      "source": [
        "for i in range(-10,0,1):\n",
        "  print(i)"
      ],
      "execution_count": 46,
      "outputs": [
        {
          "output_type": "stream",
          "text": [
            "-10\n",
            "-9\n",
            "-8\n",
            "-7\n",
            "-6\n",
            "-5\n",
            "-4\n",
            "-3\n",
            "-2\n",
            "-1\n"
          ],
          "name": "stdout"
        }
      ]
    },
    {
      "cell_type": "markdown",
      "metadata": {
        "id": "LDI8fXN22_IT"
      },
      "source": [
        "Write a program to display all prime numbers within a range\n",
        "**A Prime Number is a whole number that cannot be made by multiplying other whole numbers**\n"
      ]
    },
    {
      "cell_type": "code",
      "metadata": {
        "colab": {
          "base_uri": "https://localhost:8080/"
        },
        "id": "LEh0G9yP2pUn",
        "outputId": "1944e1da-814c-4998-af3d-0d733ea216f3"
      },
      "source": [
        "def printPrime(start,end):\n",
        "  for num in range(start,end + 1):\n",
        "    if num > 1:\n",
        "      for i in range(2,num):\n",
        "        if (num % i) == 0:\n",
        "          break\n",
        "      else:\n",
        "        print(num)\n",
        "\n",
        "start = 25\n",
        "end = 50\n",
        "printPrime(start,end)"
      ],
      "execution_count": 48,
      "outputs": [
        {
          "output_type": "stream",
          "text": [
            "29\n",
            "31\n",
            "37\n",
            "41\n",
            "43\n",
            "47\n"
          ],
          "name": "stdout"
        }
      ]
    },
    {
      "cell_type": "markdown",
      "metadata": {
        "id": "UrW4SoUO4ITT"
      },
      "source": [
        "Display Fibonacci series up to 10 terms\n",
        "0  1  1  2  3  5  8  13  21  34\n"
      ]
    },
    {
      "cell_type": "code",
      "metadata": {
        "colab": {
          "base_uri": "https://localhost:8080/"
        },
        "id": "lRNJdalM36sk",
        "outputId": "b4f7f10f-e38a-4e32-df65-a41e08bb1148"
      },
      "source": [
        "def Fibonacci(num):\n",
        "  terms = num\n",
        "  first, next = 0, 1\n",
        "  count = 0 \n",
        "  while count < terms:\n",
        "    print(first, end=\" \")\n",
        "    temp = first + next\n",
        "    first = next\n",
        "    next = temp\n",
        "    count +=1\n",
        "\n",
        "Fibonacci(10)"
      ],
      "execution_count": 61,
      "outputs": [
        {
          "output_type": "stream",
          "text": [
            "0 1 1 2 3 5 8 13 21 34 "
          ],
          "name": "stdout"
        }
      ]
    },
    {
      "cell_type": "markdown",
      "metadata": {
        "id": "w59DST1Y6Re5"
      },
      "source": [
        "Write a loop to find the factorial of any number"
      ]
    },
    {
      "cell_type": "code",
      "metadata": {
        "colab": {
          "base_uri": "https://localhost:8080/"
        },
        "id": "9X9Gca_A5t8W",
        "outputId": "03ebdb59-f563-42b5-9a9d-67e28e1f22af"
      },
      "source": [
        "def factorial(num):\n",
        "  sum = 1\n",
        "  if num < 0:\n",
        "    print(\"Factorial does not exist for negative numbers\")\n",
        "  elif num == 0:\n",
        "    print(\"The factorial of 0 is 1\")\n",
        "  else:\n",
        "    for i in range(1, num +1):\n",
        "      sum = sum * i\n",
        "    print(\"The factorial of\", num, \"is\", sum)\n",
        "\n",
        "factorial(5)"
      ],
      "execution_count": 67,
      "outputs": [
        {
          "output_type": "stream",
          "text": [
            "The factorial of 5 is 120\n"
          ],
          "name": "stdout"
        }
      ]
    },
    {
      "cell_type": "markdown",
      "metadata": {
        "id": "GkEvZ-K27Zcr"
      },
      "source": [
        "Reverse a given integer number\n",
        "76542 -> 24567\n",
        "\n",
        "\n",
        "> Indented block\n",
        "\n"
      ]
    },
    {
      "cell_type": "code",
      "metadata": {
        "colab": {
          "base_uri": "https://localhost:8080/"
        },
        "id": "KLWoEupy7ubK",
        "outputId": "e04ab420-efe9-49f7-d89f-2b4a10fc22fe"
      },
      "source": [
        "print(f'76542'[::-1])"
      ],
      "execution_count": 68,
      "outputs": [
        {
          "output_type": "stream",
          "text": [
            "24567\n"
          ],
          "name": "stdout"
        }
      ]
    },
    {
      "cell_type": "code",
      "metadata": {
        "colab": {
          "base_uri": "https://localhost:8080/"
        },
        "id": "pmrwMgj15Fs7",
        "outputId": "5f7e5195-3f66-4eff-961c-ad9dcaaaf715"
      },
      "source": [
        "def reverse(num):\n",
        "  rnum = 0\n",
        "  while num > 0:\n",
        "    rem = num % 10\n",
        "    rnum = (rnum * 10) + rem\n",
        "    num = num //10\n",
        "  print(rnum,end=\"\")\n",
        "\n",
        "reverse(76542)"
      ],
      "execution_count": 72,
      "outputs": [
        {
          "output_type": "stream",
          "text": [
            "24567"
          ],
          "name": "stdout"
        }
      ]
    },
    {
      "cell_type": "code",
      "metadata": {
        "colab": {
          "base_uri": "https://localhost:8080/"
        },
        "id": "U20FThkx8Llk",
        "outputId": "e03df98d-501f-4184-87a7-83c4fc9a1de4"
      },
      "source": [
        "my_list = [10, 20, 30, 40, 50, 60, 70, 80, 90, 100]\n",
        "for i in my_list[1::2]:\n",
        "  print(i, end=\" \")"
      ],
      "execution_count": 74,
      "outputs": [
        {
          "output_type": "stream",
          "text": [
            "20 40 60 80 100 "
          ],
          "name": "stdout"
        }
      ]
    },
    {
      "cell_type": "markdown",
      "metadata": {
        "id": "ooLXE5xx89mO"
      },
      "source": [
        "Display the cube of the number up to a given integer"
      ]
    },
    {
      "cell_type": "code",
      "metadata": {
        "colab": {
          "base_uri": "https://localhost:8080/"
        },
        "id": "yAxMAcoc80U3",
        "outputId": "15d8233f-bf5b-4012-c7eb-9dedc15e1911"
      },
      "source": [
        "def displayCube(num):\n",
        "  for i in range(1,num+1):\n",
        "    print(\"Current Number is : {} and the cube is {}\".format(i,i*i*i))\n",
        "    print(\"Current Number is :\",i,\"and the cube is\",i*i*i)\n",
        "\n",
        "displayCube(6)"
      ],
      "execution_count": 88,
      "outputs": [
        {
          "output_type": "stream",
          "text": [
            "Current Number is : 1 and the cube is 1\n",
            "Current Number is : 1 and the cube is 1\n",
            "Current Number is : 2 and the cube is 8\n",
            "Current Number is : 2 and the cube is 8\n",
            "Current Number is : 3 and the cube is 27\n",
            "Current Number is : 3 and the cube is 27\n",
            "Current Number is : 4 and the cube is 64\n",
            "Current Number is : 4 and the cube is 64\n",
            "Current Number is : 5 and the cube is 125\n",
            "Current Number is : 5 and the cube is 125\n",
            "Current Number is : 6 and the cube is 216\n",
            "Current Number is : 6 and the cube is 216\n"
          ],
          "name": "stdout"
        }
      ]
    },
    {
      "cell_type": "markdown",
      "metadata": {
        "id": "8b5KEg0D-KD_"
      },
      "source": [
        "Find the sum of the series 2 +22 + 222 + 2222 + .. n terms\n",
        "\n",
        "number_of_terms = 5\n",
        "\n",
        "So series will become 2 + 22 + 222 + 2222 + 22222\n"
      ]
    },
    {
      "cell_type": "code",
      "metadata": {
        "colab": {
          "base_uri": "https://localhost:8080/"
        },
        "id": "aVdPB6Me9VCM",
        "outputId": "9fcce4bc-4733-4288-d237-1ed3159fa3f2"
      },
      "source": [
        "def displaySeries(term):\n",
        "  start = 2\n",
        "  sum = 0\n",
        "  for i in range(0,term):\n",
        "    print(start,end=\" \")\n",
        "    sum += start\n",
        "    start = (start * 10) + 2\n",
        "  print(\"\\nSum of above series is:\", sum)\n",
        "number_of_terms = 5\n",
        "displaySeries(number_of_terms)"
      ],
      "execution_count": 110,
      "outputs": [
        {
          "output_type": "stream",
          "text": [
            "2\n",
            "22\n",
            "222\n",
            "2222\n",
            "22222\n",
            "\n",
            "Sum of above series is: 24690\n"
          ],
          "name": "stdout"
        }
      ]
    },
    {
      "cell_type": "code",
      "metadata": {
        "colab": {
          "base_uri": "https://localhost:8080/"
        },
        "id": "v-6Ewr7c-pgg",
        "outputId": "adb4155b-6f05-40bb-f99d-b911c0550966"
      },
      "source": [
        "for i in range(1,5):\n",
        "  for j in range(i):\n",
        "    print(\"*\",end=\" \")\n",
        "  print(\"\\n\")\n",
        "for i in range(5,0,-1):\n",
        "  for j in range(i):\n",
        "    print(\"*\",end=\" \")\n",
        "  print(\"\\n\")"
      ],
      "execution_count": 117,
      "outputs": [
        {
          "output_type": "stream",
          "text": [
            "* \n",
            "\n",
            "* * \n",
            "\n",
            "* * * \n",
            "\n",
            "* * * * \n",
            "\n",
            "* * * * * \n",
            "\n",
            "* * * * \n",
            "\n",
            "* * * \n",
            "\n",
            "* * \n",
            "\n",
            "* \n",
            "\n"
          ],
          "name": "stdout"
        }
      ]
    },
    {
      "cell_type": "markdown",
      "metadata": {
        "id": "yXprgzFtB9La"
      },
      "source": [
        "Generate a Python list of all the even numbers between 4 to 30\n"
      ]
    },
    {
      "cell_type": "code",
      "metadata": {
        "colab": {
          "base_uri": "https://localhost:8080/"
        },
        "id": "xwTocr21A7gW",
        "outputId": "e2620778-6ff6-4b92-faca-bf6b75ea926b"
      },
      "source": [
        "print(list(range(4,30,2)))"
      ],
      "execution_count": 119,
      "outputs": [
        {
          "output_type": "stream",
          "text": [
            "[4, 6, 8, 10, 12, 14, 16, 18, 20, 22, 24, 26, 28]\n"
          ],
          "name": "stdout"
        }
      ]
    },
    {
      "cell_type": "code",
      "metadata": {
        "id": "JX5tiijHCDYt"
      },
      "source": [
        ""
      ],
      "execution_count": null,
      "outputs": []
    }
  ]
}